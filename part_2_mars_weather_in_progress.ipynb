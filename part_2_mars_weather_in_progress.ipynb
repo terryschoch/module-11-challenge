{
 "cells": [
  {
   "cell_type": "markdown",
   "metadata": {},
   "source": [
    "# Module 12 Challenge\n",
    "## Deliverable 2: Scrape and Analyze Mars Weather Data"
   ]
  },
  {
   "cell_type": "code",
   "execution_count": 1,
   "metadata": {},
   "outputs": [],
   "source": [
    "# Import relevant libraries\n",
    "from splinter import Browser\n",
    "from bs4 import BeautifulSoup\n",
    "import matplotlib.pyplot as plt\n",
    "import pandas as pd"
   ]
  },
  {
   "cell_type": "code",
   "execution_count": 2,
   "metadata": {},
   "outputs": [],
   "source": [
    "browser = Browser('chrome')"
   ]
  },
  {
   "cell_type": "markdown",
   "metadata": {},
   "source": [
    "### Step 1: Visit the Website\n",
    "\n",
    "Use automated browsing to visit the [Mars Temperature Data Site](https://static.bc-edx.com/data/web/mars_facts/temperature.html). Inspect the page to identify which elements to scrape.\n",
    "\n",
    "   > **Hint** To identify which elements to scrape, you might want to inspect the page by using Chrome DevTools to discover whether the table contains usable classes.\n"
   ]
  },
  {
   "cell_type": "code",
   "execution_count": 3,
   "metadata": {},
   "outputs": [],
   "source": [
    "# Visit the website\n",
    "# https://static.bc-edx.com/data/web/mars_facts/temperature.html\n",
    "url = \"https://static.bc-edx.com/data/web/mars_facts/temperature.html\"\n",
    "browser.visit(url)"
   ]
  },
  {
   "cell_type": "markdown",
   "metadata": {},
   "source": [
    "### Step 2: Scrape the Table\n",
    "\n",
    "Create a Beautiful Soup object and use it to scrape the data in the HTML table.\n",
    "\n",
    "Note that this can also be achieved by using the Pandas `read_html` function. However, use Beautiful Soup here to continue sharpening your web scraping skills."
   ]
  },
  {
   "cell_type": "code",
   "execution_count": 4,
   "metadata": {},
   "outputs": [],
   "source": [
    "# define variable to contain website's html\n",
    "html = browser.html\n",
    "\n",
    "# Create a Beautiful Soup object and parse html\n",
    "soup = BeautifulSoup(html, 'html.parser')"
   ]
  },
  {
   "cell_type": "code",
   "execution_count": 5,
   "metadata": {},
   "outputs": [],
   "source": [
    "# Extract all rows of data\n",
    "all_rows = soup.find('table', class_='table')\n",
    "# rows = table.find_all('tr')\n",
    "# rows = table.find_all('tr', class_=\"data-row\")"
   ]
  },
  {
   "cell_type": "markdown",
   "metadata": {},
   "source": [
    "### Step 3: Store the Data\n",
    "\n",
    "Assemble the scraped data into a Pandas DataFrame. The columns should have the same headings as the table on the website. Here’s an explanation of the column headings:\n",
    "\n",
    "* `id`: the identification number of a single transmission from the Curiosity rover\n",
    "* `terrestrial_date`: the date on Earth\n",
    "* `sol`: the number of elapsed sols (Martian days) since Curiosity landed on Mars\n",
    "* `ls`: the solar longitude\n",
    "* `month`: the Martian month\n",
    "* `min_temp`: the minimum temperature, in Celsius, of a single Martian day (sol)\n",
    "* `pressure`: The atmospheric pressure at Curiosity's location"
   ]
  },
  {
   "cell_type": "code",
   "execution_count": 7,
   "metadata": {},
   "outputs": [],
   "source": [
    "# Create an empty list\n",
    "mars_rows = [] \n",
    "\n",
    "# Loop through the scraped data to create a list of rows\n",
    "for sibling in soup.find_all('table')[0].tr.next_siblings:\n",
    "    row = []\n",
    "    for td in sibling:        \n",
    "        try:\n",
    "            row.append(td.text.replace('\\n', ''))                               \n",
    "        except:\n",
    "            continue\n",
    "    if len(row) > 0:\n",
    "        mars_rows.append(row)"
   ]
  },
  {
   "cell_type": "code",
   "execution_count": 8,
   "metadata": {},
   "outputs": [
    {
     "name": "stdout",
     "output_type": "stream",
     "text": [
      "['id', 'terrestrial_date', 'sol', 'ls', 'month', 'min_temp', 'pressure']\n"
     ]
    }
   ],
   "source": [
    "cols = []\n",
    "\n",
    "headers = all_rows.find_all('th')\n",
    "for header in headers:\n",
    "    cols.append(header.text)\n",
    "print(cols)"
   ]
  },
  {
   "cell_type": "code",
   "execution_count": 10,
   "metadata": {
    "scrolled": false
   },
   "outputs": [],
   "source": [
    "# Create a Pandas DataFrame by using the list of rows and a list of the column names\n",
    "# df = pd.DataFrame(mars_rows, columns=[cols])\n",
    "\n",
    "df = pd.DataFrame(mars_rows)\n",
    "# df = pd.DataFrame(mars_rows, columns=cols)"
   ]
  },
  {
   "cell_type": "code",
   "execution_count": 11,
   "metadata": {},
   "outputs": [
    {
     "data": {
      "text/html": [
       "<div>\n",
       "<style scoped>\n",
       "    .dataframe tbody tr th:only-of-type {\n",
       "        vertical-align: middle;\n",
       "    }\n",
       "\n",
       "    .dataframe tbody tr th {\n",
       "        vertical-align: top;\n",
       "    }\n",
       "\n",
       "    .dataframe thead th {\n",
       "        text-align: right;\n",
       "    }\n",
       "</style>\n",
       "<table border=\"1\" class=\"dataframe\">\n",
       "  <thead>\n",
       "    <tr style=\"text-align: right;\">\n",
       "      <th></th>\n",
       "      <th>0</th>\n",
       "      <th>1</th>\n",
       "      <th>2</th>\n",
       "      <th>3</th>\n",
       "      <th>4</th>\n",
       "      <th>5</th>\n",
       "      <th>6</th>\n",
       "      <th>7</th>\n",
       "      <th>8</th>\n",
       "      <th>9</th>\n",
       "      <th>10</th>\n",
       "      <th>11</th>\n",
       "      <th>12</th>\n",
       "      <th>13</th>\n",
       "      <th>14</th>\n",
       "    </tr>\n",
       "  </thead>\n",
       "  <tbody>\n",
       "    <tr>\n",
       "      <th>0</th>\n",
       "      <td></td>\n",
       "      <td>2</td>\n",
       "      <td></td>\n",
       "      <td>2012-08-16</td>\n",
       "      <td></td>\n",
       "      <td>10</td>\n",
       "      <td></td>\n",
       "      <td>155</td>\n",
       "      <td></td>\n",
       "      <td>6</td>\n",
       "      <td></td>\n",
       "      <td>-75.0</td>\n",
       "      <td></td>\n",
       "      <td>739.0</td>\n",
       "      <td></td>\n",
       "    </tr>\n",
       "    <tr>\n",
       "      <th>1</th>\n",
       "      <td></td>\n",
       "      <td>13</td>\n",
       "      <td></td>\n",
       "      <td>2012-08-17</td>\n",
       "      <td></td>\n",
       "      <td>11</td>\n",
       "      <td></td>\n",
       "      <td>156</td>\n",
       "      <td></td>\n",
       "      <td>6</td>\n",
       "      <td></td>\n",
       "      <td>-76.0</td>\n",
       "      <td></td>\n",
       "      <td>740.0</td>\n",
       "      <td></td>\n",
       "    </tr>\n",
       "    <tr>\n",
       "      <th>2</th>\n",
       "      <td></td>\n",
       "      <td>24</td>\n",
       "      <td></td>\n",
       "      <td>2012-08-18</td>\n",
       "      <td></td>\n",
       "      <td>12</td>\n",
       "      <td></td>\n",
       "      <td>156</td>\n",
       "      <td></td>\n",
       "      <td>6</td>\n",
       "      <td></td>\n",
       "      <td>-76.0</td>\n",
       "      <td></td>\n",
       "      <td>741.0</td>\n",
       "      <td></td>\n",
       "    </tr>\n",
       "    <tr>\n",
       "      <th>3</th>\n",
       "      <td></td>\n",
       "      <td>35</td>\n",
       "      <td></td>\n",
       "      <td>2012-08-19</td>\n",
       "      <td></td>\n",
       "      <td>13</td>\n",
       "      <td></td>\n",
       "      <td>157</td>\n",
       "      <td></td>\n",
       "      <td>6</td>\n",
       "      <td></td>\n",
       "      <td>-74.0</td>\n",
       "      <td></td>\n",
       "      <td>732.0</td>\n",
       "      <td></td>\n",
       "    </tr>\n",
       "    <tr>\n",
       "      <th>4</th>\n",
       "      <td></td>\n",
       "      <td>46</td>\n",
       "      <td></td>\n",
       "      <td>2012-08-20</td>\n",
       "      <td></td>\n",
       "      <td>14</td>\n",
       "      <td></td>\n",
       "      <td>157</td>\n",
       "      <td></td>\n",
       "      <td>6</td>\n",
       "      <td></td>\n",
       "      <td>-74.0</td>\n",
       "      <td></td>\n",
       "      <td>740.0</td>\n",
       "      <td></td>\n",
       "    </tr>\n",
       "    <tr>\n",
       "      <th>...</th>\n",
       "      <td>...</td>\n",
       "      <td>...</td>\n",
       "      <td>...</td>\n",
       "      <td>...</td>\n",
       "      <td>...</td>\n",
       "      <td>...</td>\n",
       "      <td>...</td>\n",
       "      <td>...</td>\n",
       "      <td>...</td>\n",
       "      <td>...</td>\n",
       "      <td>...</td>\n",
       "      <td>...</td>\n",
       "      <td>...</td>\n",
       "      <td>...</td>\n",
       "      <td>...</td>\n",
       "    </tr>\n",
       "    <tr>\n",
       "      <th>1862</th>\n",
       "      <td></td>\n",
       "      <td>1889</td>\n",
       "      <td></td>\n",
       "      <td>2018-02-23</td>\n",
       "      <td></td>\n",
       "      <td>1973</td>\n",
       "      <td></td>\n",
       "      <td>133</td>\n",
       "      <td></td>\n",
       "      <td>5</td>\n",
       "      <td></td>\n",
       "      <td>-78.0</td>\n",
       "      <td></td>\n",
       "      <td>730.0</td>\n",
       "      <td></td>\n",
       "    </tr>\n",
       "    <tr>\n",
       "      <th>1863</th>\n",
       "      <td></td>\n",
       "      <td>1892</td>\n",
       "      <td></td>\n",
       "      <td>2018-02-24</td>\n",
       "      <td></td>\n",
       "      <td>1974</td>\n",
       "      <td></td>\n",
       "      <td>134</td>\n",
       "      <td></td>\n",
       "      <td>5</td>\n",
       "      <td></td>\n",
       "      <td>-77.0</td>\n",
       "      <td></td>\n",
       "      <td>729.0</td>\n",
       "      <td></td>\n",
       "    </tr>\n",
       "    <tr>\n",
       "      <th>1864</th>\n",
       "      <td></td>\n",
       "      <td>1894</td>\n",
       "      <td></td>\n",
       "      <td>2018-02-25</td>\n",
       "      <td></td>\n",
       "      <td>1975</td>\n",
       "      <td></td>\n",
       "      <td>134</td>\n",
       "      <td></td>\n",
       "      <td>5</td>\n",
       "      <td></td>\n",
       "      <td>-76.0</td>\n",
       "      <td></td>\n",
       "      <td>729.0</td>\n",
       "      <td></td>\n",
       "    </tr>\n",
       "    <tr>\n",
       "      <th>1865</th>\n",
       "      <td></td>\n",
       "      <td>1893</td>\n",
       "      <td></td>\n",
       "      <td>2018-02-26</td>\n",
       "      <td></td>\n",
       "      <td>1976</td>\n",
       "      <td></td>\n",
       "      <td>135</td>\n",
       "      <td></td>\n",
       "      <td>5</td>\n",
       "      <td></td>\n",
       "      <td>-77.0</td>\n",
       "      <td></td>\n",
       "      <td>728.0</td>\n",
       "      <td></td>\n",
       "    </tr>\n",
       "    <tr>\n",
       "      <th>1866</th>\n",
       "      <td></td>\n",
       "      <td>1895</td>\n",
       "      <td></td>\n",
       "      <td>2018-02-27</td>\n",
       "      <td></td>\n",
       "      <td>1977</td>\n",
       "      <td></td>\n",
       "      <td>135</td>\n",
       "      <td></td>\n",
       "      <td>5</td>\n",
       "      <td></td>\n",
       "      <td>-77.0</td>\n",
       "      <td></td>\n",
       "      <td>727.0</td>\n",
       "      <td></td>\n",
       "    </tr>\n",
       "  </tbody>\n",
       "</table>\n",
       "<p>1867 rows × 15 columns</p>\n",
       "</div>"
      ],
      "text/plain": [
       "     0     1  2           3  4     5  6    7  8  9  10     11 12     13 14\n",
       "0           2     2012-08-16       10     155     6     -75.0     739.0   \n",
       "1          13     2012-08-17       11     156     6     -76.0     740.0   \n",
       "2          24     2012-08-18       12     156     6     -76.0     741.0   \n",
       "3          35     2012-08-19       13     157     6     -74.0     732.0   \n",
       "4          46     2012-08-20       14     157     6     -74.0     740.0   \n",
       "...  ..   ... ..         ... ..   ... ..  ... .. .. ..    ... ..    ... ..\n",
       "1862     1889     2018-02-23     1973     133     5     -78.0     730.0   \n",
       "1863     1892     2018-02-24     1974     134     5     -77.0     729.0   \n",
       "1864     1894     2018-02-25     1975     134     5     -76.0     729.0   \n",
       "1865     1893     2018-02-26     1976     135     5     -77.0     728.0   \n",
       "1866     1895     2018-02-27     1977     135     5     -77.0     727.0   \n",
       "\n",
       "[1867 rows x 15 columns]"
      ]
     },
     "execution_count": 11,
     "metadata": {},
     "output_type": "execute_result"
    }
   ],
   "source": [
    "# Confirm DataFrame was created successfully\n",
    "df"
   ]
  },
  {
   "cell_type": "markdown",
   "metadata": {},
   "source": [
    "### Step 4: Prepare Data for Analysis\n",
    "\n",
    "Examine the data types that are currently associated with each column. If necessary, cast (or convert) the data to the appropriate `datetime`, `int`, or `float` data types.\n",
    "\n",
    "  > **Hint** You can use the Pandas `astype` and `to_datetime` methods to accomplish this task.\n"
   ]
  },
  {
   "cell_type": "code",
   "execution_count": null,
   "metadata": {},
   "outputs": [],
   "source": [
    "# Examine data type of each column\n",
    "type(df)"
   ]
  },
  {
   "cell_type": "code",
   "execution_count": null,
   "metadata": {},
   "outputs": [],
   "source": [
    "# Change data types for data analysis\n"
   ]
  },
  {
   "cell_type": "code",
   "execution_count": null,
   "metadata": {},
   "outputs": [],
   "source": [
    "# Confirm type changes were successful by examining data types again\n"
   ]
  },
  {
   "cell_type": "markdown",
   "metadata": {},
   "source": [
    "### Step 5: Analyze the Data\n",
    "\n",
    "Analyze your dataset by using Pandas functions to answer the following questions:\n",
    "\n",
    "1. How many months exist on Mars?\n",
    "2. How many Martian (and not Earth) days worth of data exist in the scraped dataset?\n",
    "3. What are the coldest and the warmest months on Mars (at the location of Curiosity)? To answer this question:\n",
    "    * Find the average the minimum daily temperature for all of the months.\n",
    "    * Plot the results as a bar chart.\n",
    "4. Which months have the lowest and the highest atmospheric pressure on Mars? To answer this question:\n",
    "    * Find the average the daily atmospheric pressure of all the months.\n",
    "    * Plot the results as a bar chart.\n",
    "5. About how many terrestrial (Earth) days exist in a Martian year? To answer this question:\n",
    "    * Consider how many days elapse on Earth in the time that Mars circles the Sun once.\n",
    "    * Visually estimate the result by plotting the daily minimum temperature.\n"
   ]
  },
  {
   "cell_type": "code",
   "execution_count": null,
   "metadata": {},
   "outputs": [],
   "source": [
    "# 1. How many months are there on Mars?\n"
   ]
  },
  {
   "cell_type": "code",
   "execution_count": null,
   "metadata": {},
   "outputs": [],
   "source": [
    "# 2. How many Martian days' worth of data are there?\n"
   ]
  },
  {
   "cell_type": "code",
   "execution_count": null,
   "metadata": {},
   "outputs": [],
   "source": [
    "# 3. What is the average low temperature by month?\n"
   ]
  },
  {
   "cell_type": "code",
   "execution_count": null,
   "metadata": {},
   "outputs": [],
   "source": [
    "# Plot the average temperature by month\n"
   ]
  },
  {
   "cell_type": "code",
   "execution_count": null,
   "metadata": {},
   "outputs": [],
   "source": [
    "# Identify the coldest and hottest months in Curiosity's location\n"
   ]
  },
  {
   "cell_type": "code",
   "execution_count": null,
   "metadata": {},
   "outputs": [],
   "source": [
    "# 4. Average pressure by Martian month\n"
   ]
  },
  {
   "cell_type": "code",
   "execution_count": null,
   "metadata": {},
   "outputs": [],
   "source": [
    "# Plot the average pressure by month\n"
   ]
  },
  {
   "cell_type": "code",
   "execution_count": null,
   "metadata": {},
   "outputs": [],
   "source": [
    "# 5. How many terrestrial (earth) days are there in a Martian year?\n"
   ]
  },
  {
   "cell_type": "markdown",
   "metadata": {},
   "source": [
    "On average, the third month has the coldest minimum temperature on Mars, and the eighth month is the warmest. But it is always very cold there in human terms!\n",
    "\n"
   ]
  },
  {
   "cell_type": "markdown",
   "metadata": {},
   "source": [
    "Atmospheric pressure is, on average, lowest in the sixth month and highest in the ninth."
   ]
  },
  {
   "cell_type": "markdown",
   "metadata": {},
   "source": [
    "The distance from peak to peak is roughly 1425-750, or 675 days. A year on Mars appears to be about 675 days from the plot. Internet search confirms that a Mars year is equivalent to 687 earth days."
   ]
  },
  {
   "cell_type": "markdown",
   "metadata": {},
   "source": [
    "### Step 6: Save the Data\n",
    "\n",
    "Export the DataFrame to a CSV file."
   ]
  },
  {
   "cell_type": "code",
   "execution_count": null,
   "metadata": {},
   "outputs": [],
   "source": [
    "# Write the data to a CSV\n"
   ]
  },
  {
   "cell_type": "code",
   "execution_count": null,
   "metadata": {},
   "outputs": [],
   "source": [
    "browser.quit()"
   ]
  },
  {
   "cell_type": "code",
   "execution_count": null,
   "metadata": {},
   "outputs": [],
   "source": [
    "###############################################################################\n",
    "\n",
    "\n",
    "# # Create an empty list\n",
    "# mars_rows = []\n",
    "\n",
    "# # Loop through the scraped data to create a list of rows\n",
    "# for row in rows:\n",
    "#     row_data = row.find_all('td')\n",
    "# #     for data in row_data:\n",
    "# #         mars_rows.append(data.text.strip())\n",
    "#     mars_rows.append(row_data)\n",
    "#     for _ in range(5):\n",
    "#         test = row_data[_].text\n",
    "#         mars_test.append(test)\n",
    "# #     stripped = row_data[1].text\n",
    "# #     print(stripped)\n",
    "# mars_rows[1]\n",
    "\n",
    "# # for child in soup.find_all('table')[0].children:\n",
    "# #     row = []\n",
    "# #     for td in child:        \n",
    "# #         try:\n",
    "# #             row.append(td.text.replace('\\n', ''))                            \n",
    "# #         except:\n",
    "# #             continue\n",
    "# #     if len(row) > 0:\n",
    "# #         rows.append(row)\n",
    "\n",
    "\n",
    "###############################################################################\n",
    "\n",
    "\n",
    "# # Create an empty list\n",
    "# mars_rows = []\n",
    "\n",
    "# # Loop through the scraped data to create a list of rows\n",
    "# for row in rows:\n",
    "#     row_data = row.find_all('td')\n",
    "# #     for data in row_data:\n",
    "# #         mars_rows.append(data.text.strip())\n",
    "#     mars_rows.append(row_data)\n",
    "#     for _ in range(5):\n",
    "#         test = row_data[_].text\n",
    "#         mars_test.append(test)\n",
    "# #     stripped = row_data[1].text\n",
    "# #     print(stripped)\n",
    "# mars_rows[1]\n",
    "\n",
    "# # for child in soup.find_all('table')[0].children:\n",
    "# #     row = []\n",
    "# #     for td in child:        \n",
    "# #         try:\n",
    "# #             row.append(td.text.replace('\\n', ''))                            \n",
    "# #         except:\n",
    "# #             continue\n",
    "# #     if len(row) > 0:\n",
    "# #         rows.append(row)# # # Create an empty list\n",
    "# mars_test = []\n",
    "\n",
    "# # # Loop through the scraped data to create a list of rows\n",
    "# for row in rows:\n",
    "#     rowdy = row.text\n",
    "#     new_string = rowdy.replace(\"\\n\", \", \")\n",
    "#     mars_test.append(new_string)\n",
    "    \n",
    "\n",
    "#     #     mars_rows.append(row.text)\n",
    "# # #     for row in rows:\n",
    "# # #     row_data = row.find_all('td')\n",
    "# # #     for data in row_data:\n",
    "# # #         mars_rows.append(data.text.strip())\n",
    "# # #     mars_rows.append(row_data)\n",
    "    \n",
    "# mars_test"
   ]
  }
 ],
 "metadata": {
  "kernelspec": {
   "display_name": "Python 3 (ipykernel)",
   "language": "python",
   "name": "python3"
  },
  "language_info": {
   "codemirror_mode": {
    "name": "ipython",
    "version": 3
   },
   "file_extension": ".py",
   "mimetype": "text/x-python",
   "name": "python",
   "nbconvert_exporter": "python",
   "pygments_lexer": "ipython3",
   "version": "3.7.13"
  },
  "vscode": {
   "interpreter": {
    "hash": "31f2aee4e71d21fbe5cf8b01ff0e069b9275f58929596ceb00d14d90e3e16cd6"
   }
  }
 },
 "nbformat": 4,
 "nbformat_minor": 4
}
